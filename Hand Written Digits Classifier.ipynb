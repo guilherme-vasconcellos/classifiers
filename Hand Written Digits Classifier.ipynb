{
 "cells": [
  {
   "cell_type": "markdown",
   "metadata": {},
   "source": [
    "# Hand Written Digits Classifier\n",
    "\n",
    "Using keras convolutional neural networks to classify hand written numbers"
   ]
  },
  {
   "cell_type": "markdown",
   "metadata": {},
   "source": [
    "## Setup And Exploration"
   ]
  },
  {
   "cell_type": "code",
   "execution_count": 1,
   "metadata": {},
   "outputs": [
    {
     "name": "stderr",
     "output_type": "stream",
     "text": [
      "Using TensorFlow backend.\n"
     ]
    }
   ],
   "source": [
    "import pandas as pd\n",
    "import numpy as np\n",
    "\n",
    "import matplotlib.pyplot as plt\n",
    "import seaborn as sns\n",
    "\n",
    "from keras.datasets import mnist\n",
    "\n",
    "# Set default seed\n",
    "np.random.seed(2802)"
   ]
  },
  {
   "cell_type": "code",
   "execution_count": 2,
   "metadata": {},
   "outputs": [],
   "source": [
    "from sklearn.model_selection import train_test_split\n",
    "\n",
    "(X_train_raw, y_train_raw), (X_test_raw, y_test_raw) = mnist.load_data()\n",
    "\n",
    "# Split train into train and validation\n",
    "X_train_raw, X_val_raw, y_train_raw, y_val_raw = train_test_split(X_train_raw, y_train_raw, test_size=0.1, shuffle=True)"
   ]
  },
  {
   "cell_type": "code",
   "execution_count": 3,
   "metadata": {},
   "outputs": [
    {
     "name": "stdout",
     "output_type": "stream",
     "text": [
      "Image (width x height x channel): (28 x 28 x 1)\n"
     ]
    }
   ],
   "source": [
    "image_height = X_train_raw.shape[1]  \n",
    "image_width = X_train_raw.shape[2]\n",
    "\n",
    "color_channels = 1 # Grayscale\n",
    "\n",
    "print(f'Image (width x height x channel): ({image_width} x {image_height} x {color_channels})')"
   ]
  },
  {
   "cell_type": "code",
   "execution_count": 4,
   "metadata": {},
   "outputs": [
    {
     "name": "stdout",
     "output_type": "stream",
     "text": [
      "Train data shape: (54000, 28, 28)\n",
      "Train labels shape: (54000,)\n",
      "\n",
      "Test data shape: (10000, 28, 28)\n",
      "Test labels shape: (10000,)\n",
      "\n",
      "Validation data shape: (6000, 28, 28)\n",
      "Validation labels shape: (6000,)\n"
     ]
    }
   ],
   "source": [
    "print(f'Train data shape: {X_train_raw.shape}')\n",
    "print(f'Train labels shape: {y_train_raw.shape}\\n')\n",
    "\n",
    "print(f'Test data shape: {X_test_raw.shape}')\n",
    "print(f'Test labels shape: {y_test_raw.shape}\\n')\n",
    "\n",
    "print(f'Validation data shape: {X_val_raw.shape}')\n",
    "print(f'Validation labels shape: {y_val_raw.shape}')"
   ]
  },
  {
   "cell_type": "code",
   "execution_count": 5,
   "metadata": {},
   "outputs": [],
   "source": [
    "def show(data, view='head', n=6, figsize=(6, 5)):\n",
    "    X, y = data\n",
    "    \n",
    "    digits = None\n",
    "    labels = None\n",
    "\n",
    "    possible_views = ['head', 'tail', 'sample']\n",
    "    \n",
    "    if view == 'head':\n",
    "        digits = X[:n]\n",
    "        labels = y[:n]\n",
    "    elif view == 'tail':\n",
    "        digits = X[X.shape[0] - n:]\n",
    "        labels = y[y.shape[0] - n:]\n",
    "    elif view == 'sample':\n",
    "        sample = np.random.randint(0, X.shape[0], n)\n",
    "        digits = X[sample]\n",
    "        labels = y[sample]\n",
    "        \n",
    "    if view not in possible_views:\n",
    "        raise ValueError(f'Invalid view \"{view}\". View should be one of: {\", \".join(possible_views)}')\n",
    "        \n",
    "    n_rows, n_cols = (2, int(n / 2))\n",
    "    _, ax = plt.subplots(n_rows, n_cols,\n",
    "                           figsize=figsize,\n",
    "                           squeeze=True,\n",
    "                           gridspec_kw={'wspace': 0.10, 'hspace': 0.01})\n",
    "    \n",
    "    for row in range(n_rows):\n",
    "        for col in range(n_cols):\n",
    "            idx = row * n_cols + col\n",
    "            ax[row, col].axis('off')\n",
    "            ax[row, col].set_title(f'Nº {labels[idx]}')\n",
    "            ax[row, col].imshow(digits[idx], cmap='gray')\n",
    "                         \n",
    "    plt.show()\n",
    "    plt.close()"
   ]
  },
  {
   "cell_type": "code",
   "execution_count": 6,
   "metadata": {},
   "outputs": [
    {
     "data": {
      "image/png": "[encoded data removed]",
      "text/plain": [
       "<Figure size 432x360 with 6 Axes>"
      ]
     },
     "metadata": {
      "needs_background": "dark"
     },
     "output_type": "display_data"
    }
   ],
   "source": [
    "show(data=(X_train_raw, y_train_raw))"
   ]
  },
  {
   "cell_type": "code",
   "execution_count": 7,
   "metadata": {},
   "outputs": [
    {
     "data": {
      "image/png": "[encoded data removed]",
      "text/plain": [
       "<Figure size 432x360 with 6 Axes>"
      ]
     },
     "metadata": {
      "needs_background": "dark"
     },
     "output_type": "display_data"
    }
   ],
   "source": [
    "show(data=(X_test_raw, y_test_raw))"
   ]
  },
  {
   "cell_type": "code",
   "execution_count": 8,
   "metadata": {},
   "outputs": [
    {
     "data": {
      "image/png": "[encoded data removed]",
      "text/plain": [
       "<Figure size 432x360 with 6 Axes>"
      ]
     },
     "metadata": {
      "needs_background": "dark"
     },
     "output_type": "display_data"
    }
   ],
   "source": [
    "show(data=(X_val_raw, y_val_raw))"
   ]
  },
  {
   "cell_type": "markdown",
   "metadata": {},
   "source": [
    "## Pre-Processing Data"
   ]
  },
  {
   "cell_type": "code",
   "execution_count": 9,
   "metadata": {},
   "outputs": [
    {
     "name": "stdout",
     "output_type": "stream",
     "text": [
      "X_train shape: (54000, 28, 28, 1)\n",
      "X_test shape: (10000, 28, 28, 1)\n",
      "X_val shape: (6000, 28, 28, 1)\n"
     ]
    }
   ],
   "source": [
    "X_train = np.reshape(X_train_raw, (X_train_raw.shape[0], image_height, image_width, color_channels))\n",
    "X_test = np.reshape(X_test_raw, (X_test_raw.shape[0], image_height, image_width, color_channels))\n",
    "X_val = np.reshape(X_val_raw, (X_val_raw.shape[0], image_height, image_width, color_channels))\n",
    "\n",
    "print(f'X_train shape: {X_train.shape}')\n",
    "print(f'X_test shape: {X_test.shape}')\n",
    "print(f'X_val shape: {X_val.shape}')"
   ]
  },
  {
   "cell_type": "code",
   "execution_count": 10,
   "metadata": {},
   "outputs": [],
   "source": [
    "X_train = X_train.astype('float32') / 255.0\n",
    "X_test = X_test.astype('float32') / 255.0\n",
    "X_val = X_val.astype('float32') / 255.0"
   ]
  },
  {
   "cell_type": "code",
   "execution_count": 11,
   "metadata": {},
   "outputs": [
    {
     "name": "stdout",
     "output_type": "stream",
     "text": [
      "y_train shape: (54000, 10)\n",
      "y_test shape: (10000, 10)\n",
      "y_val shape: (6000, 10)\n"
     ]
    }
   ],
   "source": [
    "from keras.utils import to_categorical\n",
    "\n",
    "num_classes = 10 # Number of possible outputs: 0-9\n",
    "\n",
    "y_train = to_categorical(y_train_raw, num_classes)\n",
    "y_test = to_categorical(y_test_raw, num_classes)\n",
    "y_val = to_categorical(y_val_raw, num_classes)\n",
    "\n",
    "print(f'y_train shape: {y_train.shape}')\n",
    "print(f'y_test shape: {y_test.shape}')\n",
    "print(f'y_val shape: {y_val.shape}')"
   ]
  },
  {
   "cell_type": "markdown",
   "metadata": {},
   "source": [
    "## Model Selection"
   ]
  },
  {
   "cell_type": "code",
   "execution_count": 12,
   "metadata": {},
   "outputs": [
    {
     "name": "stdout",
     "output_type": "stream",
     "text": [
      "WARNING:tensorflow:From c:\\users\\guilherme araujo\\appdata\\local\\programs\\python\\python37\\lib\\site-packages\\tensorflow\\python\\framework\\op_def_library.py:263: colocate_with (from tensorflow.python.framework.ops) is deprecated and will be removed in a future version.\n",
      "Instructions for updating:\n",
      "Colocations handled automatically by placer.\n",
      "_________________________________________________________________\n",
      "Layer (type)                 Output Shape              Param #   \n",
      "=================================================================\n",
      "conv2d_1 (Conv2D)            (None, 28, 28, 32)        320       \n",
      "_________________________________________________________________\n",
      "max_pooling2d_1 (MaxPooling2 (None, 14, 14, 32)        0         \n",
      "_________________________________________________________________\n",
      "conv2d_2 (Conv2D)            (None, 14, 14, 64)        18496     \n",
      "_________________________________________________________________\n",
      "max_pooling2d_2 (MaxPooling2 (None, 7, 7, 64)          0         \n",
      "_________________________________________________________________\n",
      "conv2d_3 (Conv2D)            (None, 7, 7, 64)          36928     \n",
      "_________________________________________________________________\n",
      "max_pooling2d_3 (MaxPooling2 (None, 3, 3, 64)          0         \n",
      "_________________________________________________________________\n",
      "flatten_1 (Flatten)          (None, 576)               0         \n",
      "_________________________________________________________________\n",
      "dense_1 (Dense)              (None, 128)               73856     \n",
      "_________________________________________________________________\n",
      "dense_2 (Dense)              (None, 10)                1290      \n",
      "=================================================================\n",
      "Total params: 130,890\n",
      "Trainable params: 130,890\n",
      "Non-trainable params: 0\n",
      "_________________________________________________________________\n"
     ]
    }
   ],
   "source": [
    "from keras.models import Sequential\n",
    "from keras.layers import Conv2D, MaxPooling2D, Flatten, Dense\n",
    "\n",
    "model = Sequential()\n",
    "\n",
    "# Convolutional layers\n",
    "model.add(Conv2D(filters=32, kernel_size=(3, 3), activation='relu', padding='same',\n",
    "                 input_shape=(image_height, image_width, color_channels)))\n",
    "model.add(MaxPooling2D(pool_size=(2, 2)))\n",
    "\n",
    "model.add(Conv2D(filters=64, kernel_size=(3, 3), activation='relu', padding='same'))\n",
    "model.add(MaxPooling2D(pool_size=(2, 2)))\n",
    "\n",
    "model.add(Conv2D(filters=64, kernel_size=(3, 3), activation='relu', padding='same'))\n",
    "model.add(MaxPooling2D(pool_size=(2, 2)))\n",
    "\n",
    "# Neural network layers\n",
    "model.add(Flatten())\n",
    "model.add(Dense(128, activation='relu'))\n",
    "model.add(Dense(num_classes, activation='softmax'))\n",
    "\n",
    "model.compile(optimizer='adam', loss='categorical_crossentropy', metrics=['accuracy'])\n",
    "\n",
    "model.summary()"
   ]
  },
  {
   "cell_type": "code",
   "execution_count": 13,
   "metadata": {},
   "outputs": [
    {
     "name": "stdout",
     "output_type": "stream",
     "text": [
      "WARNING:tensorflow:From c:\\users\\guilherme araujo\\appdata\\local\\programs\\python\\python37\\lib\\site-packages\\tensorflow\\python\\ops\\math_ops.py:3066: to_int32 (from tensorflow.python.ops.math_ops) is deprecated and will be removed in a future version.\n",
      "Instructions for updating:\n",
      "Use tf.cast instead.\n",
      "Train on 54000 samples, validate on 6000 samples\n",
      "Epoch 1/15\n",
      "54000/54000 [==============================] - 72s 1ms/step - loss: 0.1891 - acc: 0.9409 - val_loss: 0.0598 - val_acc: 0.9817\n",
      "Epoch 2/15\n",
      "54000/54000 [==============================] - 70s 1ms/step - loss: 0.0492 - acc: 0.9845 - val_loss: 0.0509 - val_acc: 0.9832\n",
      "Epoch 3/15\n",
      "54000/54000 [==============================] - 70s 1ms/step - loss: 0.0339 - acc: 0.9895 - val_loss: 0.0552 - val_acc: 0.9812\n",
      "Epoch 4/15\n",
      "54000/54000 [==============================] - 69s 1ms/step - loss: 0.0257 - acc: 0.9917 - val_loss: 0.0446 - val_acc: 0.9878\n",
      "Epoch 5/15\n",
      "54000/54000 [==============================] - 68s 1ms/step - loss: 0.0221 - acc: 0.9932 - val_loss: 0.0472 - val_acc: 0.9852\n",
      "Epoch 6/15\n",
      "54000/54000 [==============================] - 75s 1ms/step - loss: 0.0170 - acc: 0.9946 - val_loss: 0.0629 - val_acc: 0.9810\n",
      "Epoch 7/15\n",
      "54000/54000 [==============================] - 67s 1ms/step - loss: 0.0155 - acc: 0.9950 - val_loss: 0.0336 - val_acc: 0.9892\n",
      "Epoch 8/15\n",
      "54000/54000 [==============================] - 65s 1ms/step - loss: 0.0122 - acc: 0.9963 - val_loss: 0.0532 - val_acc: 0.9862\n",
      "Epoch 9/15\n",
      "54000/54000 [==============================] - 62s 1ms/step - loss: 0.0119 - acc: 0.9960 - val_loss: 0.0314 - val_acc: 0.9908\n",
      "Epoch 10/15\n",
      "54000/54000 [==============================] - 66s 1ms/step - loss: 0.0092 - acc: 0.9969 - val_loss: 0.0384 - val_acc: 0.9887\n",
      "Epoch 11/15\n",
      "54000/54000 [==============================] - 67s 1ms/step - loss: 0.0095 - acc: 0.9969 - val_loss: 0.0536 - val_acc: 0.9862\n",
      "Epoch 12/15\n",
      "54000/54000 [==============================] - 62s 1ms/step - loss: 0.0075 - acc: 0.9976 - val_loss: 0.0476 - val_acc: 0.9892\n",
      "Epoch 13/15\n",
      "54000/54000 [==============================] - 65s 1ms/step - loss: 0.0083 - acc: 0.9974 - val_loss: 0.0394 - val_acc: 0.9913\n",
      "Epoch 14/15\n",
      "54000/54000 [==============================] - 68s 1ms/step - loss: 0.0056 - acc: 0.9981 - val_loss: 0.0410 - val_acc: 0.9908\n",
      "Epoch 15/15\n",
      "54000/54000 [==============================] - 67s 1ms/step - loss: 0.0064 - acc: 0.9979 - val_loss: 0.0497 - val_acc: 0.9880\n"
     ]
    }
   ],
   "source": [
    "results = model.fit(X_train, y_train, epochs=15, batch_size=64, validation_data=(X_val, y_val))"
   ]
  },
  {
   "cell_type": "markdown",
   "metadata": {},
   "source": [
    "## Checking Accuracy"
   ]
  },
  {
   "cell_type": "code",
   "execution_count": 14,
   "metadata": {},
   "outputs": [
    {
     "data": {
      "text/html": [
       "<div>\n",
       "<style scoped>\n",
       "    .dataframe tbody tr th:only-of-type {\n",
       "        vertical-align: middle;\n",
       "    }\n",
       "\n",
       "    .dataframe tbody tr th {\n",
       "        vertical-align: top;\n",
       "    }\n",
       "\n",
       "    .dataframe thead th {\n",
       "        text-align: right;\n",
       "    }\n",
       "</style>\n",
       "<table border=\"1\" class=\"dataframe\">\n",
       "  <thead>\n",
       "    <tr style=\"text-align: right;\">\n",
       "      <th></th>\n",
       "      <th>val_loss</th>\n",
       "      <th>val_acc</th>\n",
       "      <th>loss</th>\n",
       "      <th>acc</th>\n",
       "    </tr>\n",
       "  </thead>\n",
       "  <tbody>\n",
       "    <tr>\n",
       "      <th>0</th>\n",
       "      <td>0.059762</td>\n",
       "      <td>0.981667</td>\n",
       "      <td>0.189096</td>\n",
       "      <td>0.940889</td>\n",
       "    </tr>\n",
       "    <tr>\n",
       "      <th>1</th>\n",
       "      <td>0.050937</td>\n",
       "      <td>0.983167</td>\n",
       "      <td>0.049198</td>\n",
       "      <td>0.984463</td>\n",
       "    </tr>\n",
       "    <tr>\n",
       "      <th>2</th>\n",
       "      <td>0.055168</td>\n",
       "      <td>0.981167</td>\n",
       "      <td>0.033890</td>\n",
       "      <td>0.989537</td>\n",
       "    </tr>\n",
       "    <tr>\n",
       "      <th>3</th>\n",
       "      <td>0.044626</td>\n",
       "      <td>0.987833</td>\n",
       "      <td>0.025749</td>\n",
       "      <td>0.991685</td>\n",
       "    </tr>\n",
       "    <tr>\n",
       "      <th>4</th>\n",
       "      <td>0.047189</td>\n",
       "      <td>0.985167</td>\n",
       "      <td>0.022058</td>\n",
       "      <td>0.993185</td>\n",
       "    </tr>\n",
       "  </tbody>\n",
       "</table>\n",
       "</div>"
      ],
      "text/plain": [
       "   val_loss   val_acc      loss       acc\n",
       "0  0.059762  0.981667  0.189096  0.940889\n",
       "1  0.050937  0.983167  0.049198  0.984463\n",
       "2  0.055168  0.981167  0.033890  0.989537\n",
       "3  0.044626  0.987833  0.025749  0.991685\n",
       "4  0.047189  0.985167  0.022058  0.993185"
      ]
     },
     "execution_count": 14,
     "metadata": {},
     "output_type": "execute_result"
    }
   ],
   "source": [
    "results_df = pd.DataFrame.from_dict(results.history)\n",
    "results_df.head()"
   ]
  },
  {
   "cell_type": "code",
   "execution_count": 15,
   "metadata": {},
   "outputs": [
    {
     "data": {
      "text/plain": [
       "<matplotlib.axes._subplots.AxesSubplot at 0x198bb44ee10>"
      ]
     },
     "execution_count": 15,
     "metadata": {},
     "output_type": "execute_result"
    },
    {
     "data": {
      "image/png": "[encoded data removed]",
      "text/plain": [
       "<Figure size 1080x720 with 1 Axes>"
      ]
     },
     "metadata": {
      "needs_background": "dark"
     },
     "output_type": "display_data"
    }
   ],
   "source": [
    "plt.figure(figsize=(15, 10))\n",
    "ax = sns.lineplot(data=results_df[['acc', 'val_acc']], dashes=False)\n",
    "\n",
    "ax.set_title('Train Accuracy x Validation Accuracy')\n",
    "ax.set_xlabel('Epochs')\n",
    "ax.set_ylabel('Accuracy')\n",
    "\n",
    "ax"
   ]
  },
  {
   "cell_type": "markdown",
   "metadata": {},
   "source": [
    "## Checking Loss"
   ]
  },
  {
   "cell_type": "code",
   "execution_count": 16,
   "metadata": {},
   "outputs": [
    {
     "data": {
      "text/plain": [
       "<matplotlib.axes._subplots.AxesSubplot at 0x198bb400160>"
      ]
     },
     "execution_count": 16,
     "metadata": {},
     "output_type": "execute_result"
    },
    {
     "data": {
      "image/png": "[encoded data removed]",
      "text/plain": [
       "<Figure size 1080x720 with 1 Axes>"
      ]
     },
     "metadata": {
      "needs_background": "dark"
     },
     "output_type": "display_data"
    }
   ],
   "source": [
    "plt.figure(figsize=(15, 10))\n",
    "ax = sns.lineplot(data=results_df[['loss', 'val_loss']], dashes=False)\n",
    "\n",
    "ax.set_title('Train Loss x Validation Loss')\n",
    "ax.set_xlabel('Epochs')\n",
    "ax.set_ylabel('Loss')\n",
    "\n",
    "ax"
   ]
  },
  {
   "cell_type": "code",
   "execution_count": 17,
   "metadata": {},
   "outputs": [
    {
     "name": "stdout",
     "output_type": "stream",
     "text": [
      "10000/10000 [==============================] - 4s 356us/step\n",
      "Test loss: 0.04198280731604311\n",
      "Test accuracy: 0.9916\n"
     ]
    }
   ],
   "source": [
    "test_loss, test_accuracy = model.evaluate(X_test, y_test, batch_size=64)\n",
    "\n",
    "print(f'Test loss: {test_loss}')\n",
    "print(f'Test accuracy: {test_accuracy}')"
   ]
  },
  {
   "cell_type": "markdown",
   "metadata": {},
   "source": [
    "# Predicting Hand Written Digits"
   ]
  },
  {
   "cell_type": "code",
   "execution_count": 18,
   "metadata": {},
   "outputs": [],
   "source": [
    "predictions = model.predict(X_test)"
   ]
  },
  {
   "cell_type": "code",
   "execution_count": 19,
   "metadata": {},
   "outputs": [],
   "source": [
    "def view_predictions(y_pred, y_true, n_predictions=None):\n",
    "    y_predicted = None\n",
    "    _y_true = None\n",
    "\n",
    "    if n_predictions is None:\n",
    "        n_predictions = y_true.shape[0]\n",
    "        \n",
    "        y_predicted = np.argmax(y_pred, axis=1)\n",
    "        y_true = np.argmax(y_true, axis=1)\n",
    "    else:\n",
    "        y_predicted = np.argmax(y_pred, axis=1)[:n_predictions]\n",
    "        y_true = np.argmax(y_true, axis=1)[:n_predictions]\n",
    "    \n",
    "    print('Predicted:\\t', y_predicted)\n",
    "    print('True:\\t\\t', y_true)\n",
    "    print('Diff:\\t\\t', (y_predicted == y_true).astype(int))\n",
    "    \n",
    "    prediction_error_count = (y_predicted != y_true).astype(int).sum()\n",
    "    print(f'Error Count:\\t {prediction_error_count} x {n_predictions}')"
   ]
  },
  {
   "cell_type": "code",
   "execution_count": 20,
   "metadata": {},
   "outputs": [
    {
     "name": "stdout",
     "output_type": "stream",
     "text": [
      "Predicted:\t [7 2 1 0 4 1 4 9 5 9 0 6 9 0 1 5 9 7 3 4 9 6 6 5 4]\n",
      "True:\t\t [7 2 1 0 4 1 4 9 5 9 0 6 9 0 1 5 9 7 3 4 9 6 6 5 4]\n",
      "Diff:\t\t [1 1 1 1 1 1 1 1 1 1 1 1 1 1 1 1 1 1 1 1 1 1 1 1 1]\n",
      "Error Count:\t 0 x 25\n"
     ]
    }
   ],
   "source": [
    "view_predictions(predictions, y_test, 25)"
   ]
  },
  {
   "cell_type": "markdown",
   "metadata": {},
   "source": [
    "## Pre-Processing Any Image"
   ]
  },
  {
   "cell_type": "code",
   "execution_count": 21,
   "metadata": {},
   "outputs": [],
   "source": [
    "from PIL import Image, ImageFilter\n",
    "from matplotlib import pyplot as plt\n",
    "\n",
    "# Credits to https://www.youtube.com/watch?v=oYndcjlzwX8\n",
    "def image_to_array(filepath):\n",
    "    image = Image.open(filepath).convert('L')\n",
    "    new_image = Image.new('L', size=(28, 28), color=255)\n",
    "\n",
    "    width, height = tuple(map(float, image.size))\n",
    "    if width > height:\n",
    "        new_height = int(20.0 / width * height)\n",
    "        new_height = new_height or 1\n",
    "\n",
    "        image_tmp = image.resize((20, new_height), Image.ANTIALIAS).filter(ImageFilter.SHARPEN)\n",
    "        width_top = int((28 - new_height) / 2)\n",
    "\n",
    "        new_image.paste(image_tmp, (4, width_top))\n",
    "    else:\n",
    "        new_width = int(20.0 / height * width)\n",
    "        new_width = new_width or 1\n",
    "\n",
    "        image_tmp = image.resize((new_width, 20), Image.ANTIALIAS).filter(ImageFilter.SHARPEN)\n",
    "        width_left = int((28 - new_width) / 2)\n",
    "        \n",
    "        new_image.paste(image_tmp, (width_left, 4))\n",
    "\n",
    "    pixels = list(new_image.getdata())\n",
    "    pixels = [[(255 - x) * 1.0 / 255.0 for x in pixels]]\n",
    "\n",
    "    byte_array = [[0 for x in range(28)] for y in range(28)]\n",
    "\n",
    "    k = 0\n",
    "    for i in range(28):\n",
    "        for j in range(28):\n",
    "            byte_array[i][j] = pixels[0][k]\n",
    "            k = k + 1\n",
    "\n",
    "    return byte_array"
   ]
  },
  {
   "cell_type": "code",
   "execution_count": 60,
   "metadata": {},
   "outputs": [
    {
     "data": {
      "image/png": "[encoded data removed]",
      "text/plain": [
       "<Figure size 432x360 with 6 Axes>"
      ]
     },
     "metadata": {
      "needs_background": "dark"
     },
     "output_type": "display_data"
    }
   ],
   "source": [
    "import os\n",
    "\n",
    "numbers = os.listdir('datasets/hand_written_digits')\n",
    "\n",
    "X_any_raw = [image_to_array(f'datasets/hand_written_digits/{image}') for image in numbers]\n",
    "\n",
    "y_any_raw = []\n",
    "for number in numbers:\n",
    "    n = number.rsplit('.')[0].split('_')[0]\n",
    "    n = int(n)\n",
    "    y_any_raw.append(n)\n",
    "\n",
    "y_any_raw = np.array(y_any_raw)\n",
    "    \n",
    "show(data=(X_any_raw, y_any_raw))"
   ]
  },
  {
   "cell_type": "code",
   "execution_count": 65,
   "metadata": {},
   "outputs": [
    {
     "name": "stdout",
     "output_type": "stream",
     "text": [
      "Predicted:\t [2 4 7 7 8 8]\n",
      "True:\t\t [2 4 7 7 8 8]\n",
      "Diff:\t\t [1 1 1 1 1 1]\n",
      "Error Count:\t 0 x 6\n"
     ]
    }
   ],
   "source": [
    "X_any = [np.reshape(X, (image_height, image_width, color_channels))\n",
    "         for X in X_any_raw]\n",
    "\n",
    "X_any = np.array(X_any)\n",
    "y_any = to_categorical(y_any_raw, num_classes)\n",
    "\n",
    "predictions_any = model.predict(X_any)\n",
    "view_predictions(predictions_any, y_any)"
   ]
  },
  {
   "cell_type": "markdown",
   "metadata": {},
   "source": [
    "*Notes:*\n",
    "\n",
    "When I write a digit on my own after pre processing it the prediction the model was able to hit the number\n",
    "\n",
    "---\n",
    "*My pre-processing:*\n",
    "\n",
    "I have used gimp to remove the background and evidence the writing in grayscale"
   ]
  },
  {
   "cell_type": "code",
   "execution_count": 66,
   "metadata": {},
   "outputs": [],
   "source": [
    "import pickle\n",
    "\n",
    "def save_model(filepath, fitted_model):\n",
    "    try:\n",
    "        with open(filepath, 'wb') as f:\n",
    "            pickle.dump(fitted_model, f)\n",
    "    except Exception as e:\n",
    "        print(e)\n",
    "\n",
    "        \n",
    "def load_model(filepath):\n",
    "    fitted_model = None\n",
    "    try:\n",
    "        with open(filepath, 'rb') as f:\n",
    "            fitted_model = pickle.load(f)\n",
    "            \n",
    "        return fitted_model\n",
    "    except Exception as e:\n",
    "        print(e)"
   ]
  },
  {
   "cell_type": "code",
   "execution_count": 67,
   "metadata": {},
   "outputs": [],
   "source": [
    "# Saving user based model\n",
    "filename = 'conv_nn_hand_written_digits_classifier.pkl'\n",
    "filepath = f'models/{filename}'\n",
    "\n",
    "save_model(filepath, model)"
   ]
  },
  {
   "cell_type": "code",
   "execution_count": null,
   "metadata": {},
   "outputs": [],
   "source": [
    "# Loading saved model\n",
    "model = load_model(filepath)"
   ]
  }
 ],
 "metadata": {
  "hide_input": false,
  "kernelspec": {
   "display_name": "Python 3",
   "language": "python",
   "name": "python3"
  },
  "language_info": {
   "codemirror_mode": {
    "name": "ipython",
    "version": 3
   },
   "file_extension": ".py",
   "mimetype": "text/x-python",
   "name": "python",
   "nbconvert_exporter": "python",
   "pygments_lexer": "ipython3",
   "version": "3.7.3"
  },
  "toc": {
   "base_numbering": 1,
   "nav_menu": {},
   "number_sections": true,
   "sideBar": true,
   "skip_h1_title": false,
   "title_cell": "Table of Contents",
   "title_sidebar": "Contents",
   "toc_cell": false,
   "toc_position": {},
   "toc_section_display": true,
   "toc_window_display": true
  }
 },
 "nbformat": 4,
 "nbformat_minor": 2
}
